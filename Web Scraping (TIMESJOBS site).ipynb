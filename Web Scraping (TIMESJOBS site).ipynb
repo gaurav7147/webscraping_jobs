{
 "cells": [
  {
   "cell_type": "code",
   "execution_count": 52,
   "id": "6a0b357c",
   "metadata": {},
   "outputs": [],
   "source": [
    "from bs4 import BeautifulSoup\n",
    "import requests\n",
    "import pandas as pd"
   ]
  },
  {
   "cell_type": "code",
   "execution_count": 53,
   "id": "2734b4b1",
   "metadata": {},
   "outputs": [
    {
     "name": "stdout",
     "output_type": "stream",
     "text": [
      "Write an skill you want to search for? (Eg: python, sql, data analysis, etc..)\n",
      "Filtering out jobs for: python\n"
     ]
    }
   ],
   "source": [
    "print('Write an skill you want to search for? (Eg: python, sql, data analysis, etc..)')\n",
    "search_skill = input('>')\n",
    "print(f\"Filtering out jobs for: {search_skill}\")"
   ]
  },
  {
   "cell_type": "markdown",
   "id": "afa4b319",
   "metadata": {},
   "source": [
    "#### Saving jobs in a list after filtering"
   ]
  },
  {
   "cell_type": "code",
   "execution_count": 54,
   "id": "9a432fc1",
   "metadata": {},
   "outputs": [
    {
     "name": "stdout",
     "output_type": "stream",
     "text": [
      "478\n"
     ]
    }
   ],
   "source": [
    "all_jobs = []\n",
    "\n",
    "for page_num in range(1,22):\n",
    "   url = requests.get('https://www.timesjobs.com/candidate/job-search.html?from=submit&luceneResultSize=25&txtKeywords=python&postWeek=60&searchType=personalizedSearch&actualTxtKeywords=' + search_skill + '&searchBy=0&rdoOperator=OR&pDate=I&sequence=' + str(page_num) + '&startPage=1')\n",
    "   soup = BeautifulSoup(url.content, 'html.parser')\n",
    "   jobs = soup.find_all('li', class_ = 'clearfix job-bx wht-shd-bx')\n",
    "   # print(jobs)\n",
    "   for job in jobs:\n",
    "      published_date = job.find('span', class_ = 'sim-posted').span.text\n",
    "      # print(published_date)\n",
    "      company_name = job.find('h3', class_ = 'joblist-comp-name').text.strip()\n",
    "      # print(company_name)\n",
    "      skills = job.find('span', class_ = 'srp-skills').text.replace(' ', '').strip().title() \n",
    "      # print(skills)  \n",
    "      job_description = job.find('ul', class_ = 'list-job-dtl clearfix').find('li').text[18:]\n",
    "      # print(job_description)\n",
    "      location = job.find('ul', class_= 'top-jd-dtl clearfix').find('span').text\n",
    "      # print(location)\n",
    "      job_link = job.header.h2.a['href'].strip()\n",
    "      # print(job_link)\n",
    "      if search_skill.title() in skills:\n",
    "         # all_jobs.append([company_name, published_date, location, skills, job_description, job_link])\n",
    "         all_jobs.append([company_name, published_date, location, skills, job_description, job_link])\n",
    "   \n",
    "print(len(all_jobs))"
   ]
  },
  {
   "cell_type": "markdown",
   "id": "254c80f1",
   "metadata": {},
   "source": [
    "#### Writing to CSV file"
   ]
  },
  {
   "cell_type": "code",
   "execution_count": 55,
   "id": "8a81230b",
   "metadata": {},
   "outputs": [
    {
     "data": {
      "text/html": [
       "<div>\n",
       "<style scoped>\n",
       "    .dataframe tbody tr th:only-of-type {\n",
       "        vertical-align: middle;\n",
       "    }\n",
       "\n",
       "    .dataframe tbody tr th {\n",
       "        vertical-align: top;\n",
       "    }\n",
       "\n",
       "    .dataframe thead th {\n",
       "        text-align: right;\n",
       "    }\n",
       "</style>\n",
       "<table border=\"1\" class=\"dataframe\">\n",
       "  <thead>\n",
       "    <tr style=\"text-align: right;\">\n",
       "      <th></th>\n",
       "      <th>Company Name</th>\n",
       "      <th>Published Date</th>\n",
       "      <th>Location</th>\n",
       "      <th>Skills Required</th>\n",
       "      <th>Job Description</th>\n",
       "      <th>Apply link</th>\n",
       "    </tr>\n",
       "  </thead>\n",
       "  <tbody>\n",
       "    <tr>\n",
       "      <th>0</th>\n",
       "      <td>east india securities ltd.</td>\n",
       "      <td>Posted 3 days ago</td>\n",
       "      <td>Kolkata</td>\n",
       "      <td>Python,Hadoop,Machinelearning</td>\n",
       "      <td>job_description   2  years of experience worki...</td>\n",
       "      <td>https://www.timesjobs.com/job-detail/python-en...</td>\n",
       "    </tr>\n",
       "    <tr>\n",
       "      <th>1</th>\n",
       "      <td>DREAMAJAX TECHNOLOGIES</td>\n",
       "      <td>Posted 4 days ago</td>\n",
       "      <td>Bengaluru / Bangalore</td>\n",
       "      <td>Python,Django,Api,Sql,Nosql</td>\n",
       "      <td>PYTHON DEVELOPER B.E  /  B.Tech  /  MCA  /  M....</td>\n",
       "      <td>https://www.timesjobs.com/job-detail/python-de...</td>\n",
       "    </tr>\n",
       "    <tr>\n",
       "      <th>2</th>\n",
       "      <td>INFINITY GROUP</td>\n",
       "      <td>Posted few days ago</td>\n",
       "      <td>Noida/Greater Noida</td>\n",
       "      <td>Python,Css,Django,Html,Bootstrap</td>\n",
       "      <td>DescriptionPosition: PYTHON DeveloperNo. of Re...</td>\n",
       "      <td>https://www.timesjobs.com/job-detail/python-de...</td>\n",
       "    </tr>\n",
       "    <tr>\n",
       "      <th>3</th>\n",
       "      <td>InnOvator Web Solutions Pvt.Ltd.</td>\n",
       "      <td>Posted 4 days ago</td>\n",
       "      <td>Mumbai</td>\n",
       "      <td>Rest,Python,Django,Webdeveloper,Mysql,Api</td>\n",
       "      <td>Job Category: DevelopmentJob Type: Full TimeJo...</td>\n",
       "      <td>https://www.timesjobs.com/job-detail/python-de...</td>\n",
       "    </tr>\n",
       "    <tr>\n",
       "      <th>4</th>\n",
       "      <td>AxisTechnolabs</td>\n",
       "      <td>Posted 4 days ago</td>\n",
       "      <td>Ahmedabad</td>\n",
       "      <td>Python,Django,Itskills,Html5,Api,Jquery</td>\n",
       "      <td>Responsibilities : We are looking for Freshers...</td>\n",
       "      <td>https://www.timesjobs.com/job-detail/python-od...</td>\n",
       "    </tr>\n",
       "  </tbody>\n",
       "</table>\n",
       "</div>"
      ],
      "text/plain": [
       "                       Company Name       Published Date  \\\n",
       "0        east india securities ltd.    Posted 3 days ago   \n",
       "1            DREAMAJAX TECHNOLOGIES    Posted 4 days ago   \n",
       "2                    INFINITY GROUP  Posted few days ago   \n",
       "3  InnOvator Web Solutions Pvt.Ltd.    Posted 4 days ago   \n",
       "4                    AxisTechnolabs    Posted 4 days ago   \n",
       "\n",
       "                Location                            Skills Required  \\\n",
       "0                Kolkata              Python,Hadoop,Machinelearning   \n",
       "1  Bengaluru / Bangalore                Python,Django,Api,Sql,Nosql   \n",
       "2    Noida/Greater Noida           Python,Css,Django,Html,Bootstrap   \n",
       "3                 Mumbai  Rest,Python,Django,Webdeveloper,Mysql,Api   \n",
       "4              Ahmedabad    Python,Django,Itskills,Html5,Api,Jquery   \n",
       "\n",
       "                                     Job Description  \\\n",
       "0  job_description   2  years of experience worki...   \n",
       "1  PYTHON DEVELOPER B.E  /  B.Tech  /  MCA  /  M....   \n",
       "2  DescriptionPosition: PYTHON DeveloperNo. of Re...   \n",
       "3  Job Category: DevelopmentJob Type: Full TimeJo...   \n",
       "4  Responsibilities : We are looking for Freshers...   \n",
       "\n",
       "                                          Apply link  \n",
       "0  https://www.timesjobs.com/job-detail/python-en...  \n",
       "1  https://www.timesjobs.com/job-detail/python-de...  \n",
       "2  https://www.timesjobs.com/job-detail/python-de...  \n",
       "3  https://www.timesjobs.com/job-detail/python-de...  \n",
       "4  https://www.timesjobs.com/job-detail/python-od...  "
      ]
     },
     "execution_count": 55,
     "metadata": {},
     "output_type": "execute_result"
    }
   ],
   "source": [
    "df = pd.DataFrame(all_jobs, columns=['Company Name', 'Published Date', 'Location', 'Skills Required', 'Job Description', 'Apply link'])\n",
    "df.head()"
   ]
  },
  {
   "cell_type": "code",
   "execution_count": 58,
   "id": "e35a4042",
   "metadata": {},
   "outputs": [],
   "source": [
    "df.to_csv('Job_scraping(TIMESJOB_site).csv', index=False, encoding='utf8')"
   ]
  },
  {
   "cell_type": "code",
   "execution_count": null,
   "id": "f3ea3b3b",
   "metadata": {},
   "outputs": [],
   "source": []
  }
 ],
 "metadata": {
  "kernelspec": {
   "display_name": "Python 3 (ipykernel)",
   "language": "python",
   "name": "python3"
  },
  "language_info": {
   "codemirror_mode": {
    "name": "ipython",
    "version": 3
   },
   "file_extension": ".py",
   "mimetype": "text/x-python",
   "name": "python",
   "nbconvert_exporter": "python",
   "pygments_lexer": "ipython3",
   "version": "3.11.5"
  }
 },
 "nbformat": 4,
 "nbformat_minor": 5
}
